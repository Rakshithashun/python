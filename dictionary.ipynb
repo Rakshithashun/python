{
 "cells": [
  {
   "cell_type": "code",
   "execution_count": 1,
   "id": "6073c886",
   "metadata": {},
   "outputs": [],
   "source": [
    "#obj_name={'key:''value1','key2:''value2}"
   ]
  },
  {
   "cell_type": "code",
   "execution_count": 2,
   "id": "bcfc4fad",
   "metadata": {},
   "outputs": [
    {
     "name": "stdout",
     "output_type": "stream",
     "text": [
      "{'brand': 'apple', 'model': 'iphone x', 'year': '2018'}\n"
     ]
    }
   ],
   "source": [
    "dic={'brand':'apple',\n",
    "    'model':'iphone x',\n",
    "    'year':'2018'}\n",
    "print(dic)"
   ]
  },
  {
   "cell_type": "code",
   "execution_count": 3,
   "id": "3a1231c1",
   "metadata": {},
   "outputs": [
    {
     "data": {
      "text/plain": [
       "{'brand': 'apple', 'model': 'iphone x', 'year': '2018', 'color': 'blue'}"
      ]
     },
     "execution_count": 3,
     "metadata": {},
     "output_type": "execute_result"
    }
   ],
   "source": [
    "dic['color']='blue'\n",
    "dic"
   ]
  },
  {
   "cell_type": "code",
   "execution_count": 4,
   "id": "ff02e28b",
   "metadata": {},
   "outputs": [
    {
     "data": {
      "text/plain": [
       "{'model': 'iphone x', 'year': '2018', 'color': 'blue'}"
      ]
     },
     "execution_count": 4,
     "metadata": {},
     "output_type": "execute_result"
    }
   ],
   "source": [
    "del dic['brand']\n",
    "dic"
   ]
  },
  {
   "cell_type": "code",
   "execution_count": 5,
   "id": "30a5d107",
   "metadata": {},
   "outputs": [
    {
     "ename": "NameError",
     "evalue": "name 'dic' is not defined",
     "output_type": "error",
     "traceback": [
      "\u001b[1;31m---------------------------------------------------------------------------\u001b[0m",
      "\u001b[1;31mNameError\u001b[0m                                 Traceback (most recent call last)",
      "Cell \u001b[1;32mIn[5], line 2\u001b[0m\n\u001b[0;32m      1\u001b[0m \u001b[38;5;28;01mdel\u001b[39;00m dic\n\u001b[1;32m----> 2\u001b[0m \u001b[43mdic\u001b[49m\n",
      "\u001b[1;31mNameError\u001b[0m: name 'dic' is not defined"
     ]
    }
   ],
   "source": [
    "del dic\n",
    "dic"
   ]
  },
  {
   "cell_type": "code",
   "execution_count": 6,
   "id": "e723b3ee",
   "metadata": {},
   "outputs": [
    {
     "name": "stdout",
     "output_type": "stream",
     "text": [
      "False\n"
     ]
    }
   ],
   "source": [
    "x=10\n",
    "y=12\n",
    "print(x==y)"
   ]
  },
  {
   "cell_type": "code",
   "execution_count": 8,
   "id": "ca81796b",
   "metadata": {},
   "outputs": [
    {
     "name": "stdout",
     "output_type": "stream",
     "text": [
      "True\n"
     ]
    }
   ],
   "source": [
    "x=12\n",
    "y=10\n",
    "print(x!=y)"
   ]
  },
  {
   "cell_type": "code",
   "execution_count": 9,
   "id": "9c90d53b",
   "metadata": {},
   "outputs": [
    {
     "name": "stdout",
     "output_type": "stream",
     "text": [
      "{'laila': 25, 'sally': 22, 'rob': 31}\n"
     ]
    }
   ],
   "source": [
    "my_friends={'laila':25,\n",
    "           'sally':22,\n",
    "           'rob':31}\n",
    "print(my_friends)"
   ]
  },
  {
   "cell_type": "code",
   "execution_count": 11,
   "id": "af24a2a2",
   "metadata": {},
   "outputs": [
    {
     "data": {
      "text/plain": [
       "26.0"
      ]
     },
     "execution_count": 11,
     "metadata": {},
     "output_type": "execute_result"
    }
   ],
   "source": [
    "(my_friends['laila']+my_friends['sally']+my_friends['rob'])/3"
   ]
  },
  {
   "cell_type": "code",
   "execution_count": 14,
   "id": "87224d85",
   "metadata": {},
   "outputs": [
    {
     "data": {
      "text/plain": [
       "{}"
      ]
     },
     "execution_count": 14,
     "metadata": {},
     "output_type": "execute_result"
    }
   ],
   "source": [
    "my_friends.clear()\n",
    "my_friends"
   ]
  },
  {
   "cell_type": "code",
   "execution_count": 26,
   "id": "c80868bd",
   "metadata": {},
   "outputs": [
    {
     "data": {
      "text/plain": [
       "{'s': 78, 'a': 78, 'l': 78, 'y': 78}"
      ]
     },
     "execution_count": 26,
     "metadata": {},
     "output_type": "execute_result"
    }
   ],
   "source": [
    "dic={'laila':25,\n",
    "     'sally':22,\n",
    "     'rob':31}\n",
    "dic.fromkeys('sally',78)"
   ]
  },
  {
   "cell_type": "code",
   "execution_count": 27,
   "id": "db8d8efc",
   "metadata": {},
   "outputs": [
    {
     "data": {
      "text/plain": [
       "22"
      ]
     },
     "execution_count": 27,
     "metadata": {},
     "output_type": "execute_result"
    }
   ],
   "source": [
    "dic.get('sally')"
   ]
  },
  {
   "cell_type": "code",
   "execution_count": 29,
   "id": "f582b7d3",
   "metadata": {},
   "outputs": [
    {
     "data": {
      "text/plain": [
       "dict_items([('laila', 25), ('sally', 22), ('rob', 31)])"
      ]
     },
     "execution_count": 29,
     "metadata": {},
     "output_type": "execute_result"
    }
   ],
   "source": [
    "dic.items()"
   ]
  },
  {
   "cell_type": "code",
   "execution_count": 30,
   "id": "7236bad7",
   "metadata": {},
   "outputs": [
    {
     "data": {
      "text/plain": [
       "dict_keys(['laila', 'sally', 'rob'])"
      ]
     },
     "execution_count": 30,
     "metadata": {},
     "output_type": "execute_result"
    }
   ],
   "source": [
    "dic.keys()"
   ]
  },
  {
   "cell_type": "code",
   "execution_count": 33,
   "id": "0ed86550",
   "metadata": {},
   "outputs": [
    {
     "data": {
      "text/plain": [
       "25"
      ]
     },
     "execution_count": 33,
     "metadata": {},
     "output_type": "execute_result"
    }
   ],
   "source": [
    "dic.pop('laila')"
   ]
  },
  {
   "cell_type": "code",
   "execution_count": 35,
   "id": "b932b166",
   "metadata": {},
   "outputs": [
    {
     "data": {
      "text/plain": [
       "('rob', 31)"
      ]
     },
     "execution_count": 35,
     "metadata": {},
     "output_type": "execute_result"
    }
   ],
   "source": [
    "dic.popitem()"
   ]
  },
  {
   "cell_type": "code",
   "execution_count": 39,
   "id": "c84ac51c",
   "metadata": {},
   "outputs": [
    {
     "data": {
      "text/plain": [
       "{'rob': None}"
      ]
     },
     "execution_count": 39,
     "metadata": {},
     "output_type": "execute_result"
    }
   ],
   "source": [
    "dic.setdefault('rob')\n",
    "dic"
   ]
  },
  {
   "cell_type": "code",
   "execution_count": null,
   "id": "795aaae5",
   "metadata": {},
   "outputs": [],
   "source": []
  }
 ],
 "metadata": {
  "kernelspec": {
   "display_name": "Python 3 (ipykernel)",
   "language": "python",
   "name": "python3"
  },
  "language_info": {
   "codemirror_mode": {
    "name": "ipython",
    "version": 3
   },
   "file_extension": ".py",
   "mimetype": "text/x-python",
   "name": "python",
   "nbconvert_exporter": "python",
   "pygments_lexer": "ipython3",
   "version": "3.10.9"
  }
 },
 "nbformat": 4,
 "nbformat_minor": 5
}
