{
 "cells": [
  {
   "cell_type": "code",
   "execution_count": 8,
   "id": "1949e5e6",
   "metadata": {},
   "outputs": [],
   "source": [
    "from datetime import datetime\n",
    "a=datetime(year=2023,month=7,day=11,hour=9,minute=39,second=49)"
   ]
  },
  {
   "cell_type": "code",
   "execution_count": 9,
   "id": "88bcda2f",
   "metadata": {},
   "outputs": [
    {
     "name": "stdout",
     "output_type": "stream",
     "text": [
      "2023-07-11 09:39:49\n"
     ]
    }
   ],
   "source": [
    "print(a)"
   ]
  },
  {
   "cell_type": "code",
   "execution_count": 11,
   "id": "8f8b5c06",
   "metadata": {},
   "outputs": [
    {
     "name": "stdout",
     "output_type": "stream",
     "text": [
      "2023-07-03 00:00:00\n"
     ]
    }
   ],
   "source": [
    "from dateutil import parser\n",
    "date=parser.parse(\"3rd of July,2023 \")\n",
    "print(date)"
   ]
  },
  {
   "cell_type": "code",
   "execution_count": 16,
   "id": "6668abf5",
   "metadata": {},
   "outputs": [
    {
     "data": {
      "text/plain": [
       "'Monday'"
      ]
     },
     "execution_count": 16,
     "metadata": {},
     "output_type": "execute_result"
    }
   ],
   "source": [
    "date.strftime(\"%A\")"
   ]
  },
  {
   "cell_type": "code",
   "execution_count": 28,
   "id": "e81720ee",
   "metadata": {},
   "outputs": [
    {
     "name": "stdout",
     "output_type": "stream",
     "text": [
      "2023-06-15\n"
     ]
    }
   ],
   "source": [
    "import numpy as np\n",
    "date=np.array('2023-06-15',dtype=np.datetime64)\n",
    "print(date)"
   ]
  },
  {
   "cell_type": "code",
   "execution_count": 20,
   "id": "3a567581",
   "metadata": {},
   "outputs": [
    {
     "data": {
      "text/plain": [
       "array(['2023-06-15', '2023-06-16', '2023-06-17', '2023-06-18',\n",
       "       '2023-06-19', '2023-06-20'], dtype='datetime64[D]')"
      ]
     },
     "execution_count": 20,
     "metadata": {},
     "output_type": "execute_result"
    }
   ],
   "source": [
    "date+np.arange(6)"
   ]
  },
  {
   "cell_type": "code",
   "execution_count": 21,
   "id": "d8f65c8e",
   "metadata": {},
   "outputs": [
    {
     "data": {
      "text/plain": [
       "array(['2023-06-15', '2023-06-14', '2023-06-13', '2023-06-12',\n",
       "       '2023-06-11', '2023-06-10'], dtype='datetime64[D]')"
      ]
     },
     "execution_count": 21,
     "metadata": {},
     "output_type": "execute_result"
    }
   ],
   "source": [
    "date-np.arange(6)"
   ]
  },
  {
   "cell_type": "code",
   "execution_count": 30,
   "id": "1b2f5245",
   "metadata": {},
   "outputs": [
    {
     "data": {
      "text/plain": [
       "numpy.datetime64('2023-07-11T23:59:34')"
      ]
     },
     "execution_count": 30,
     "metadata": {},
     "output_type": "execute_result"
    }
   ],
   "source": [
    "np.datetime64('2023-07-11 23:59:34')"
   ]
  },
  {
   "cell_type": "code",
   "execution_count": 40,
   "id": "b308662e",
   "metadata": {},
   "outputs": [
    {
     "data": {
      "text/plain": [
       "numpy.datetime64('2023-03-21T23:23:53.240')"
      ]
     },
     "execution_count": 40,
     "metadata": {},
     "output_type": "execute_result"
    }
   ],
   "source": [
    "np.datetime64('2023-03-21 23:23:53.24','ms')"
   ]
  },
  {
   "cell_type": "code",
   "execution_count": 49,
   "id": "18a1cc2e",
   "metadata": {},
   "outputs": [
    {
     "data": {
      "text/plain": [
       "Timestamp('2015-06-15 10:30:00')"
      ]
     },
     "execution_count": 49,
     "metadata": {},
     "output_type": "execute_result"
    }
   ],
   "source": [
    "import pandas as pd\n",
    "date=pd.to_datetime('2015, 15th of June, 10:30')\n",
    "date"
   ]
  },
  {
   "cell_type": "code",
   "execution_count": 46,
   "id": "1bcf9f2c",
   "metadata": {},
   "outputs": [
    {
     "data": {
      "text/plain": [
       "Timestamp('2005-06-15 00:00:00')"
      ]
     },
     "execution_count": 46,
     "metadata": {},
     "output_type": "execute_result"
    }
   ],
   "source": [
    "d=pd.to_datetime('June 15 2005')\n",
    "d"
   ]
  },
  {
   "cell_type": "code",
   "execution_count": 47,
   "id": "bca23fc0",
   "metadata": {},
   "outputs": [
    {
     "data": {
      "text/plain": [
       "'Wednesday'"
      ]
     },
     "execution_count": 47,
     "metadata": {},
     "output_type": "execute_result"
    }
   ],
   "source": [
    "d.strftime('%A')"
   ]
  },
  {
   "cell_type": "code",
   "execution_count": 51,
   "id": "c3670cee",
   "metadata": {},
   "outputs": [
    {
     "data": {
      "text/plain": [
       "'10:30:00'"
      ]
     },
     "execution_count": 51,
     "metadata": {},
     "output_type": "execute_result"
    }
   ],
   "source": [
    "date.strftime('%T')"
   ]
  },
  {
   "cell_type": "code",
   "execution_count": 56,
   "id": "ad9eaa1a",
   "metadata": {},
   "outputs": [
    {
     "data": {
      "text/plain": [
       "DatetimeIndex(['2015-06-15 10:30:00', '2015-06-16 10:30:00',\n",
       "               '2015-06-17 10:30:00', '2015-06-18 10:30:00',\n",
       "               '2015-06-19 10:30:00', '2015-06-20 10:30:00',\n",
       "               '2015-06-21 10:30:00', '2015-06-22 10:30:00'],\n",
       "              dtype='datetime64[ns]', freq=None)"
      ]
     },
     "execution_count": 56,
     "metadata": {},
     "output_type": "execute_result"
    }
   ],
   "source": [
    "date+pd.to_timedelta(np.arange(8),'D')"
   ]
  },
  {
   "cell_type": "code",
   "execution_count": 61,
   "id": "ed6e9e90",
   "metadata": {},
   "outputs": [
    {
     "data": {
      "text/plain": [
       "2005-06-15    0\n",
       "2004-12-03    1\n",
       "2004-05-12    2\n",
       "2004-12-31    3\n",
       "dtype: int64"
      ]
     },
     "execution_count": 61,
     "metadata": {},
     "output_type": "execute_result"
    }
   ],
   "source": [
    "index=pd.DatetimeIndex(['2005-06-15','2004-12-3','2004-05-12','2004-12-31'])\n",
    "data=pd.Series([0,1,2,3],index=index)\n",
    "data"
   ]
  },
  {
   "cell_type": "code",
   "execution_count": 66,
   "id": "c821b89b",
   "metadata": {},
   "outputs": [
    {
     "data": {
      "text/plain": [
       "0"
      ]
     },
     "execution_count": 66,
     "metadata": {},
     "output_type": "execute_result"
    }
   ],
   "source": [
    "data['2005-06-15']"
   ]
  },
  {
   "cell_type": "code",
   "execution_count": 68,
   "id": "19ea71dc",
   "metadata": {},
   "outputs": [
    {
     "data": {
      "text/plain": [
       "2004-12-03    1\n",
       "2004-12-31    3\n",
       "dtype: int64"
      ]
     },
     "execution_count": 68,
     "metadata": {},
     "output_type": "execute_result"
    }
   ],
   "source": [
    "data['2004-12-03':'2004-12-31']"
   ]
  },
  {
   "cell_type": "code",
   "execution_count": 69,
   "id": "9d20e5db",
   "metadata": {},
   "outputs": [
    {
     "data": {
      "text/plain": [
       "2005-06-15    0\n",
       "2004-12-03    1\n",
       "2004-12-31    3\n",
       "dtype: int64"
      ]
     },
     "execution_count": 69,
     "metadata": {},
     "output_type": "execute_result"
    }
   ],
   "source": [
    "data['2004-12-03':]"
   ]
  },
  {
   "cell_type": "code",
   "execution_count": 72,
   "id": "079af7c1",
   "metadata": {},
   "outputs": [
    {
     "name": "stderr",
     "output_type": "stream",
     "text": [
      "C:\\Users\\Rakshitha\\AppData\\Local\\Temp\\ipykernel_13188\\3169797480.py:1: UserWarning: Parsing dates in DD/MM/YYYY format when dayfirst=False (the default) was specified. This may lead to inconsistently parsed dates! Specify a format to ensure consistent parsing.\n",
      "  dates=pd.to_datetime([datetime(2023,4,21),'11th of July 2023','2012-jun-15','20/04/2001','20050615'])\n"
     ]
    },
    {
     "data": {
      "text/plain": [
       "DatetimeIndex(['2023-04-21', '2023-07-11', '2012-06-15', '2001-04-20',\n",
       "               '2005-06-15'],\n",
       "              dtype='datetime64[ns]', freq=None)"
      ]
     },
     "execution_count": 72,
     "metadata": {},
     "output_type": "execute_result"
    }
   ],
   "source": [
    "dates=pd.to_datetime([datetime(2023,4,21),'11th of July 2023','2012-jun-15','20/04/2001','20050615'])\n",
    "dates"
   ]
  },
  {
   "cell_type": "code",
   "execution_count": 78,
   "id": "0b34fc43",
   "metadata": {},
   "outputs": [
    {
     "data": {
      "text/plain": [
       "PeriodIndex(['2023-04-21', '2023-07-11', '2012-06-15', '2001-04-20',\n",
       "             '2005-06-15'],\n",
       "            dtype='period[D]')"
      ]
     },
     "execution_count": 78,
     "metadata": {},
     "output_type": "execute_result"
    }
   ],
   "source": [
    "dates.to_period('D')"
   ]
  },
  {
   "cell_type": "code",
   "execution_count": 76,
   "id": "c54f22e5",
   "metadata": {},
   "outputs": [
    {
     "data": {
      "text/plain": [
       "TimedeltaIndex(['0 days', '81 days', '-3962 days', '-8036 days', '-6519 days'], dtype='timedelta64[ns]', freq=None)"
      ]
     },
     "execution_count": 76,
     "metadata": {},
     "output_type": "execute_result"
    }
   ],
   "source": [
    "dates-dates[0]"
   ]
  },
  {
   "cell_type": "code",
   "execution_count": 82,
   "id": "919c5214",
   "metadata": {},
   "outputs": [
    {
     "data": {
      "text/plain": [
       "DatetimeIndex(['2005-06-15', '2005-06-16', '2005-06-17', '2005-06-18',\n",
       "               '2005-06-19', '2005-06-20', '2005-06-21', '2005-06-22',\n",
       "               '2005-06-23', '2005-06-24', '2005-06-25', '2005-06-26',\n",
       "               '2005-06-27', '2005-06-28', '2005-06-29', '2005-06-30',\n",
       "               '2005-07-01', '2005-07-02', '2005-07-03'],\n",
       "              dtype='datetime64[ns]', freq='D')"
      ]
     },
     "execution_count": 82,
     "metadata": {},
     "output_type": "execute_result"
    }
   ],
   "source": [
    "pd.date_range('2005/06/15','2005/07/3')"
   ]
  },
  {
   "cell_type": "code",
   "execution_count": 85,
   "id": "09627249",
   "metadata": {},
   "outputs": [
    {
     "data": {
      "text/plain": [
       "DatetimeIndex(['2005-06-15 00:00:00', '2005-06-15 01:00:00',\n",
       "               '2005-06-15 02:00:00', '2005-06-15 03:00:00',\n",
       "               '2005-06-15 04:00:00', '2005-06-15 05:00:00',\n",
       "               '2005-06-15 06:00:00', '2005-06-15 07:00:00',\n",
       "               '2005-06-15 08:00:00', '2005-06-15 09:00:00'],\n",
       "              dtype='datetime64[ns]', freq='H')"
      ]
     },
     "execution_count": 85,
     "metadata": {},
     "output_type": "execute_result"
    }
   ],
   "source": [
    "pd.date_range('2005/06/15',periods=10,freq='H')"
   ]
  },
  {
   "cell_type": "code",
   "execution_count": 86,
   "id": "1d2abd8b",
   "metadata": {},
   "outputs": [
    {
     "data": {
      "text/plain": [
       "DatetimeIndex(['2005-06-30', '2005-07-31', '2005-08-31', '2005-09-30',\n",
       "               '2005-10-31', '2005-11-30', '2005-12-31', '2006-01-31',\n",
       "               '2006-02-28', '2006-03-31'],\n",
       "              dtype='datetime64[ns]', freq='M')"
      ]
     },
     "execution_count": 86,
     "metadata": {},
     "output_type": "execute_result"
    }
   ],
   "source": [
    "pd.date_range('2005/06/15',periods=10,freq='M')"
   ]
  },
  {
   "cell_type": "code",
   "execution_count": 89,
   "id": "a7480a98",
   "metadata": {},
   "outputs": [
    {
     "data": {
      "text/plain": [
       "DatetimeIndex(['2005-06-30', '2005-07-31', '2005-08-31', '2005-09-30',\n",
       "               '2005-10-31', '2005-11-30', '2005-12-31', '2006-01-31',\n",
       "               '2006-02-28', '2006-03-31'],\n",
       "              dtype='datetime64[ns]', freq='M')"
      ]
     },
     "execution_count": 89,
     "metadata": {},
     "output_type": "execute_result"
    }
   ],
   "source": [
    "pd.date_range('2005/06/15',periods=10,freq='m')"
   ]
  },
  {
   "cell_type": "code",
   "execution_count": 91,
   "id": "3954a380",
   "metadata": {},
   "outputs": [
    {
     "data": {
      "text/plain": [
       "TimedeltaIndex(['0 days 00:00:00', '0 days 01:00:00', '0 days 02:00:00',\n",
       "                '0 days 03:00:00', '0 days 04:00:00', '0 days 05:00:00',\n",
       "                '0 days 06:00:00', '0 days 07:00:00', '0 days 08:00:00',\n",
       "                '0 days 09:00:00'],\n",
       "               dtype='timedelta64[ns]', freq='H')"
      ]
     },
     "execution_count": 91,
     "metadata": {},
     "output_type": "execute_result"
    }
   ],
   "source": [
    "pd.timedelta_range(0,periods=10,freq='H')"
   ]
  },
  {
   "cell_type": "code",
   "execution_count": null,
   "id": "b6237c15",
   "metadata": {},
   "outputs": [],
   "source": []
  }
 ],
 "metadata": {
  "kernelspec": {
   "display_name": "Python 3 (ipykernel)",
   "language": "python",
   "name": "python3"
  },
  "language_info": {
   "codemirror_mode": {
    "name": "ipython",
    "version": 3
   },
   "file_extension": ".py",
   "mimetype": "text/x-python",
   "name": "python",
   "nbconvert_exporter": "python",
   "pygments_lexer": "ipython3",
   "version": "3.10.9"
  }
 },
 "nbformat": 4,
 "nbformat_minor": 5
}
