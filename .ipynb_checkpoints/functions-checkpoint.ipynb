{
 "cells": [
  {
   "cell_type": "code",
   "execution_count": 4,
   "id": "99124c26",
   "metadata": {},
   "outputs": [
    {
     "data": {
      "text/plain": [
       "[34, 45, 65]"
      ]
     },
     "execution_count": 4,
     "metadata": {},
     "output_type": "execute_result"
    }
   ],
   "source": [
    "arr=[12,23,['a',['b'],'c'],34,45,65,67,78]\n",
    "arr[3:6]"
   ]
  },
  {
   "cell_type": "code",
   "execution_count": 5,
   "id": "36184b02",
   "metadata": {},
   "outputs": [
    {
     "data": {
      "text/plain": [
       "['b']"
      ]
     },
     "execution_count": 5,
     "metadata": {},
     "output_type": "execute_result"
    }
   ],
   "source": [
    "arr[2][1]"
   ]
  },
  {
   "cell_type": "code",
   "execution_count": 12,
   "id": "c2d9b4be",
   "metadata": {},
   "outputs": [
    {
     "name": "stdout",
     "output_type": "stream",
     "text": [
      "[78, 67, 65, 45, 34, ['a', ['b'], 'c'], 23, 12]\n"
     ]
    }
   ],
   "source": [
    "arr=[12,23,['a',['b'],'c'],34,45,65,67,78]\n",
    "arr.reverse()\n",
    "print(arr)"
   ]
  },
  {
   "cell_type": "code",
   "execution_count": 14,
   "id": "7cf0e55d",
   "metadata": {},
   "outputs": [
    {
     "data": {
      "text/plain": [
       "[78, 67, 65, 45, 789, 34, ['a', ['b'], 'c'], 23, 12]"
      ]
     },
     "execution_count": 14,
     "metadata": {},
     "output_type": "execute_result"
    }
   ],
   "source": [
    "arr.insert(4,789)\n",
    "arr"
   ]
  },
  {
   "cell_type": "code",
   "execution_count": 25,
   "id": "2a1ca2b5",
   "metadata": {},
   "outputs": [
    {
     "data": {
      "text/plain": [
       "303"
      ]
     },
     "execution_count": 25,
     "metadata": {},
     "output_type": "execute_result"
    }
   ],
   "source": [
    "a=0\n",
    "arr=[12,56,78,23,89,45]\n",
    "\n",
    "for i in range(0,len(arr)):\n",
    "    if i>=0:\n",
    "        a+=arr[i]\n",
    "a"
   ]
  },
  {
   "cell_type": "code",
   "execution_count": 37,
   "id": "f1b50734",
   "metadata": {},
   "outputs": [
    {
     "data": {
      "text/plain": [
       "'b'"
      ]
     },
     "execution_count": 37,
     "metadata": {},
     "output_type": "execute_result"
    }
   ],
   "source": [
    "li=[1,2,['a',['b','c'],'d'],4,5,[1,[14,[23,'q',[4,'l']],2],8],6,7,8]\n",
    "li[2][1][0]"
   ]
  },
  {
   "cell_type": "code",
   "execution_count": 41,
   "id": "4534c2bd",
   "metadata": {},
   "outputs": [
    {
     "data": {
      "text/plain": [
       "'q'"
      ]
     },
     "execution_count": 41,
     "metadata": {},
     "output_type": "execute_result"
    }
   ],
   "source": [
    "li[5][1][1][1]"
   ]
  },
  {
   "cell_type": "code",
   "execution_count": 48,
   "id": "31ebd824",
   "metadata": {},
   "outputs": [
    {
     "data": {
      "text/plain": [
       "'l'"
      ]
     },
     "execution_count": 48,
     "metadata": {},
     "output_type": "execute_result"
    }
   ],
   "source": [
    "li[5][1][1][2][1]"
   ]
  },
  {
   "cell_type": "code",
   "execution_count": 51,
   "id": "1dbc2a04",
   "metadata": {},
   "outputs": [
    {
     "data": {
      "text/plain": [
       "'ll'"
      ]
     },
     "execution_count": 51,
     "metadata": {},
     "output_type": "execute_result"
    }
   ],
   "source": [
    "li=[1,2,['a',['b','c'],'d'],4,5,[1,[14,[23,'q',[4,'l']],2],8],6,7,8,'hello','world',[2,['avengers'],3]]\n",
    "li[9][2:4]"
   ]
  },
  {
   "cell_type": "code",
   "execution_count": 52,
   "id": "2fd0fb79",
   "metadata": {},
   "outputs": [
    {
     "data": {
      "text/plain": [
       "'orl'"
      ]
     },
     "execution_count": 52,
     "metadata": {},
     "output_type": "execute_result"
    }
   ],
   "source": [
    "li[10][1:4]"
   ]
  },
  {
   "cell_type": "code",
   "execution_count": 70,
   "id": "d0a53fd4",
   "metadata": {},
   "outputs": [
    {
     "data": {
      "text/plain": [
       "'engers'"
      ]
     },
     "execution_count": 70,
     "metadata": {},
     "output_type": "execute_result"
    }
   ],
   "source": [
    "li[11][1][0][2:]"
   ]
  },
  {
   "cell_type": "code",
   "execution_count": 71,
   "id": "68b54e55",
   "metadata": {},
   "outputs": [
    {
     "data": {
      "text/plain": [
       "[1,\n",
       " 2,\n",
       " ['a', ['b', 'c'], 'd'],\n",
       " 4,\n",
       " 5,\n",
       " [1, [14, [23, 'q', [4, 'l']], 2], 8],\n",
       " 6,\n",
       " 7,\n",
       " 8,\n",
       " 'hello',\n",
       " 'world',\n",
       " [2, ['avengers'], 3],\n",
       " 67]"
      ]
     },
     "execution_count": 71,
     "metadata": {},
     "output_type": "execute_result"
    }
   ],
   "source": [
    "li.append(67)\n",
    "li"
   ]
  },
  {
   "cell_type": "code",
   "execution_count": 76,
   "id": "30dc8211",
   "metadata": {},
   "outputs": [
    {
     "data": {
      "text/plain": [
       "[1,\n",
       " 2,\n",
       " ['a', ['b', 'c'], 'd'],\n",
       " 4,\n",
       " 5,\n",
       " [1, [14, [23, 'q', [4, 'l']], 2], 8],\n",
       " 6,\n",
       " 7,\n",
       " 8,\n",
       " 'hello',\n",
       " 'world',\n",
       " [2, ['avengers'], 3],\n",
       " 67,\n",
       " 23,\n",
       " 23,\n",
       " 23,\n",
       " 6,\n",
       " 6]"
      ]
     },
     "execution_count": 76,
     "metadata": {},
     "output_type": "execute_result"
    }
   ],
   "source": [
    "li.append(6)\n",
    "li"
   ]
  },
  {
   "cell_type": "code",
   "execution_count": 77,
   "id": "138a47e4",
   "metadata": {},
   "outputs": [
    {
     "data": {
      "text/plain": [
       "1"
      ]
     },
     "execution_count": 77,
     "metadata": {},
     "output_type": "execute_result"
    }
   ],
   "source": [
    "li.count(8)"
   ]
  },
  {
   "cell_type": "code",
   "execution_count": 78,
   "id": "458d46c2",
   "metadata": {},
   "outputs": [
    {
     "data": {
      "text/plain": [
       "3"
      ]
     },
     "execution_count": 78,
     "metadata": {},
     "output_type": "execute_result"
    }
   ],
   "source": [
    "li=[1,2,3,2,4,6,6,6,7,5,3,5,7,8,5,4,58,4,458,3,38,3,8,45,8,34]\n",
    "li.count(8)"
   ]
  },
  {
   "cell_type": "code",
   "execution_count": 79,
   "id": "11e8d505",
   "metadata": {},
   "outputs": [
    {
     "data": {
      "text/plain": [
       "3"
      ]
     },
     "execution_count": 79,
     "metadata": {},
     "output_type": "execute_result"
    }
   ],
   "source": [
    "li.count(6)"
   ]
  },
  {
   "cell_type": "code",
   "execution_count": 80,
   "id": "e44b9007",
   "metadata": {},
   "outputs": [
    {
     "data": {
      "text/plain": [
       "4"
      ]
     },
     "execution_count": 80,
     "metadata": {},
     "output_type": "execute_result"
    }
   ],
   "source": [
    "li.count(3)"
   ]
  },
  {
   "cell_type": "code",
   "execution_count": 8,
   "id": "4648ba4f",
   "metadata": {},
   "outputs": [
    {
     "data": {
      "text/plain": [
       "7"
      ]
     },
     "execution_count": 8,
     "metadata": {},
     "output_type": "execute_result"
    }
   ],
   "source": [
    "c=lambda a,b,n:a+n*b\n",
    "c(1,2,3)"
   ]
  },
  {
   "cell_type": "code",
   "execution_count": 14,
   "id": "7d8cfc83",
   "metadata": {},
   "outputs": [
    {
     "data": {
      "text/plain": [
       "13"
      ]
     },
     "execution_count": 14,
     "metadata": {},
     "output_type": "execute_result"
    }
   ],
   "source": [
    "c=lambda a,b,n:a+n*b\n",
    "c(7,1,6)"
   ]
  },
  {
   "cell_type": "code",
   "execution_count": 15,
   "id": "9b7f21ed",
   "metadata": {},
   "outputs": [
    {
     "data": {
      "text/plain": [
       "2.5"
      ]
     },
     "execution_count": 15,
     "metadata": {},
     "output_type": "execute_result"
    }
   ],
   "source": [
    "c=lambda a,b,n:a+n/b\n",
    "c(1,2,3)"
   ]
  },
  {
   "cell_type": "code",
   "execution_count": 21,
   "id": "45ce0a4b",
   "metadata": {},
   "outputs": [
    {
     "data": {
      "text/plain": [
       "3"
      ]
     },
     "execution_count": 21,
     "metadata": {},
     "output_type": "execute_result"
    }
   ],
   "source": [
    "c=lambda a,b,n:a%n+b\n",
    "c(8,3,2)"
   ]
  },
  {
   "cell_type": "code",
   "execution_count": 22,
   "id": "cc5d6fd3",
   "metadata": {},
   "outputs": [
    {
     "name": "stdout",
     "output_type": "stream",
     "text": [
      "5\n"
     ]
    }
   ],
   "source": [
    "def add(a,b):\n",
    "    c=a+b\n",
    "    print(c)\n",
    "add(2,3)"
   ]
  },
  {
   "cell_type": "code",
   "execution_count": 24,
   "id": "06324628",
   "metadata": {},
   "outputs": [
    {
     "data": {
      "text/plain": [
       "5"
      ]
     },
     "execution_count": 24,
     "metadata": {},
     "output_type": "execute_result"
    }
   ],
   "source": [
    "def add(a,b):\n",
    "    c=a+b\n",
    "    return c\n",
    "add(2,3)"
   ]
  },
  {
   "cell_type": "code",
   "execution_count": 28,
   "id": "ee0d536b",
   "metadata": {},
   "outputs": [
    {
     "name": "stdout",
     "output_type": "stream",
     "text": [
      "Enter a number 12\n",
      "Enter a number 9\n",
      "21\n"
     ]
    }
   ],
   "source": [
    "def add():\n",
    "    a=int(input(\"Enter a number \"))\n",
    "    b=int(input(\"Enter a number \"))\n",
    "    c=a+b\n",
    "    print(c)\n",
    "add()"
   ]
  },
  {
   "cell_type": "code",
   "execution_count": 29,
   "id": "b902e31d",
   "metadata": {},
   "outputs": [
    {
     "name": "stdout",
     "output_type": "stream",
     "text": [
      "Enter a number 67\n",
      "Enter a number 12\n"
     ]
    },
    {
     "data": {
      "text/plain": [
       "79"
      ]
     },
     "execution_count": 29,
     "metadata": {},
     "output_type": "execute_result"
    }
   ],
   "source": [
    "def add():\n",
    "    a=int(input(\"Enter a number \"))\n",
    "    b=int(input(\"Enter a number \"))\n",
    "    c=a+b\n",
    "    return c\n",
    "add()"
   ]
  },
  {
   "cell_type": "code",
   "execution_count": 11,
   "id": "7e728da9",
   "metadata": {},
   "outputs": [
    {
     "name": "stdout",
     "output_type": "stream",
     "text": [
      "3\n"
     ]
    }
   ],
   "source": [
    "def fn(a,b):\n",
    "    d=lambda a,b : a+b\n",
    "    print(d(1,2))\n",
    "fn(1,2)"
   ]
  },
  {
   "cell_type": "code",
   "execution_count": 12,
   "id": "da8f35dc",
   "metadata": {},
   "outputs": [
    {
     "name": "stdout",
     "output_type": "stream",
     "text": [
      "13\n"
     ]
    }
   ],
   "source": [
    "def fn(a,b,c):\n",
    "    d=lambda a,b,c:a+b*c\n",
    "    print(d(3,2,5))\n",
    "fn(3,2,5)"
   ]
  },
  {
   "cell_type": "code",
   "execution_count": 2,
   "id": "55e41e41",
   "metadata": {},
   "outputs": [
    {
     "name": "stdout",
     "output_type": "stream",
     "text": [
      "Enter a number 7\n",
      "Enter a number 3\n",
      "Enter a number 2\n",
      "13\n"
     ]
    }
   ],
   "source": [
    "a=int(input(\"Enter a number \"))\n",
    "b=int(input(\"Enter a number \"))\n",
    "c=int(input(\"Enter a number \"))\n",
    "def fn(a,b,c):\n",
    "    d=lambda a,b,c:a+b*c\n",
    "    print(d(a,b,c))\n",
    "fn(a,b,c)"
   ]
  },
  {
   "cell_type": "code",
   "execution_count": 16,
   "id": "949260eb",
   "metadata": {},
   "outputs": [
    {
     "name": "stdout",
     "output_type": "stream",
     "text": [
      "Enter a number 7\n",
      "Enter a number 8\n",
      "Enter a number 2\n"
     ]
    },
    {
     "data": {
      "text/plain": [
       "23"
      ]
     },
     "execution_count": 16,
     "metadata": {},
     "output_type": "execute_result"
    }
   ],
   "source": [
    "a=int(input(\"Enter a number \"))\n",
    "b=int(input(\"Enter a number \"))\n",
    "c=int(input(\"Enter a number \"))\n",
    "def fn(a,b,c):\n",
    "    d=lambda a,b,c:a+b*c\n",
    "    return (d(a,b,c))\n",
    "fn(a,b,c)"
   ]
  },
  {
   "cell_type": "code",
   "execution_count": 17,
   "id": "454d2d47",
   "metadata": {},
   "outputs": [
    {
     "name": "stdout",
     "output_type": "stream",
     "text": [
      "Enter a number 1\n",
      "Enter a number 1\n",
      "Enter a number 1\n",
      "4\n"
     ]
    }
   ],
   "source": [
    "a=int(input(\"Enter a number \"))\n",
    "b=int(input(\"Enter a number \"))\n",
    "c=int(input(\"Enter a number \"))\n",
    "def fn(a,b,c):\n",
    "    d=lambda n:a+b*c*n\n",
    "    return (d)\n",
    "d= fn(a,b,c) \n",
    "print(d(3))"
   ]
  },
  {
   "cell_type": "code",
   "execution_count": 23,
   "id": "b9fc362e",
   "metadata": {},
   "outputs": [
    {
     "data": {
      "text/plain": [
       "[1, 4, 9, 16, 25]"
      ]
     },
     "execution_count": 23,
     "metadata": {},
     "output_type": "execute_result"
    }
   ],
   "source": [
    "def sq(n):\n",
    "    return n*n\n",
    "li=[1,2,3,4,5]\n",
    "result=map(sq,li)\n",
    "result\n",
    "res=list(result)\n",
    "res"
   ]
  },
  {
   "cell_type": "code",
   "execution_count": 4,
   "id": "ad6cbc10",
   "metadata": {},
   "outputs": [
    {
     "name": "stdout",
     "output_type": "stream",
     "text": [
      "Enter a number:4\n",
      "Enter another number:7\n",
      "11\n"
     ]
    }
   ],
   "source": [
    "a=int(input(\"Enter a number:\"))\n",
    "b=int(input(\"Enter another number:\"))\n",
    "def sum(a,b):\n",
    "    print(a+b)\n",
    "sum(a,b)"
   ]
  },
  {
   "cell_type": "code",
   "execution_count": 8,
   "id": "3b499fe1",
   "metadata": {},
   "outputs": [
    {
     "name": "stdout",
     "output_type": "stream",
     "text": [
      "<function <lambda> at 0x000001F005407490>\n"
     ]
    }
   ],
   "source": [
    "x=[1,2,3,4,5]\n",
    "a=lambda x:x*2\n",
    "print(a)"
   ]
  },
  {
   "cell_type": "code",
   "execution_count": 9,
   "id": "63fafb50",
   "metadata": {},
   "outputs": [
    {
     "name": "stdout",
     "output_type": "stream",
     "text": [
      "1\n",
      "4\n",
      "9\n",
      "16\n",
      "25\n"
     ]
    }
   ],
   "source": [
    "def sq(n):\n",
    "    return n*n\n",
    "li=[1,2,3,4,5]\n",
    "result=map(sq,li)\n",
    "for i in result:\n",
    "    print (i)\n"
   ]
  },
  {
   "cell_type": "code",
   "execution_count": 2,
   "id": "d73c4125",
   "metadata": {},
   "outputs": [
    {
     "data": {
      "text/plain": [
       "[1, 4, 9, 16, 25]"
      ]
     },
     "execution_count": 2,
     "metadata": {},
     "output_type": "execute_result"
    }
   ],
   "source": [
    "number=[1,2,3,4,5]\n",
    "sq_no=map(lambda x:x**2,number)\n",
    "list(sq_no)"
   ]
  },
  {
   "cell_type": "code",
   "execution_count": 3,
   "id": "c5ee8824",
   "metadata": {},
   "outputs": [
    {
     "data": {
      "text/plain": [
       "[1, 4, 3, 8, 5]"
      ]
     },
     "execution_count": 3,
     "metadata": {},
     "output_type": "execute_result"
    }
   ],
   "source": [
    "def even(num):\n",
    "    if num%2==0:\n",
    "        return num*2\n",
    "    else:\n",
    "        return num\n",
    "number=[1,2,3,4,5]\n",
    "result=map(even,number)\n",
    "list(result)"
   ]
  },
  {
   "cell_type": "code",
   "execution_count": 12,
   "id": "f0d561a4",
   "metadata": {},
   "outputs": [],
   "source": [
    "#reduce(fun,seq)"
   ]
  },
  {
   "cell_type": "code",
   "execution_count": 6,
   "id": "8a4f9cd1",
   "metadata": {},
   "outputs": [
    {
     "name": "stdout",
     "output_type": "stream",
     "text": [
      "The sum of list elements:25\n",
      "The maximum element:14\n"
     ]
    }
   ],
   "source": [
    "import functools\n",
    "li=[1,2,3,14,5]\n",
    "print(\"The sum of list elements:\",end=\"\")\n",
    "print(functools.reduce(lambda a,b:a+b,li))\n",
    "print(\"The maximum element:\",end=\"\")\n",
    "print(functools.reduce(lambda a,b: a if a>b else b,li))"
   ]
  },
  {
   "cell_type": "code",
   "execution_count": 21,
   "id": "4ff8f8ac",
   "metadata": {},
   "outputs": [
    {
     "data": {
      "text/plain": [
       "30"
      ]
     },
     "execution_count": 21,
     "metadata": {},
     "output_type": "execute_result"
    }
   ],
   "source": [
    "from functools import reduce\n",
    "num=[1,2,3,4,5,6,7,8,9,10]\n",
    "sum=reduce(lambda x,y:x+y,filter(lambda x:x%2==0,num))\n",
    "sum"
   ]
  },
  {
   "cell_type": "code",
   "execution_count": 22,
   "id": "183a134c",
   "metadata": {},
   "outputs": [
    {
     "name": "stdout",
     "output_type": "stream",
     "text": [
      "18\n",
      "24\n",
      "32\n"
     ]
    }
   ],
   "source": [
    "ages=[5,12,17,18,24,32]\n",
    "def myfunc(x):\n",
    "    if x<18:\n",
    "        return False\n",
    "    else:\n",
    "        return True\n",
    "adult=filter(myfunc,ages)\n",
    "for x in adult:\n",
    "    print(x)"
   ]
  },
  {
   "cell_type": "code",
   "execution_count": null,
   "id": "44302f7c",
   "metadata": {},
   "outputs": [],
   "source": []
  }
 ],
 "metadata": {
  "kernelspec": {
   "display_name": "Python 3 (ipykernel)",
   "language": "python",
   "name": "python3"
  },
  "language_info": {
   "codemirror_mode": {
    "name": "ipython",
    "version": 3
   },
   "file_extension": ".py",
   "mimetype": "text/x-python",
   "name": "python",
   "nbconvert_exporter": "python",
   "pygments_lexer": "ipython3",
   "version": "3.10.9"
  }
 },
 "nbformat": 4,
 "nbformat_minor": 5
}
