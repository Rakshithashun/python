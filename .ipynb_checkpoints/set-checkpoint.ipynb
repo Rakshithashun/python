{
 "cells": [
  {
   "cell_type": "code",
   "execution_count": 2,
   "id": "3a2b321b",
   "metadata": {},
   "outputs": [
    {
     "name": "stdout",
     "output_type": "stream",
     "text": [
      "{1, 2, 3, 'hello', 'veda'}\n"
     ]
    }
   ],
   "source": [
    "s1={1,2,'hello',3,'veda'}\n",
    "print(s1)"
   ]
  },
  {
   "cell_type": "code",
   "execution_count": 4,
   "id": "017aa89d",
   "metadata": {},
   "outputs": [
    {
     "name": "stdout",
     "output_type": "stream",
     "text": [
      "{65, 2, 4, 8, 28}\n"
     ]
    }
   ],
   "source": [
    "list1=[8,28,28,8,4,65,2]\n",
    "set1=set(list1)\n",
    "print(set1)"
   ]
  },
  {
   "cell_type": "code",
   "execution_count": 5,
   "id": "45a95ce3",
   "metadata": {},
   "outputs": [
    {
     "name": "stdout",
     "output_type": "stream",
     "text": [
      "(8, 28, 28, 8, 4, 65, 2)\n"
     ]
    }
   ],
   "source": [
    "list1=[8,28,28,8,4,65,2]\n",
    "tuple1=tuple(list1)\n",
    "print(tuple1)"
   ]
  },
  {
   "cell_type": "code",
   "execution_count": 7,
   "id": "b5d45555",
   "metadata": {},
   "outputs": [
    {
     "name": "stdout",
     "output_type": "stream",
     "text": [
      "{65, 2, 4, 8, 28}\n"
     ]
    }
   ],
   "source": [
    "tuple1=(8,28,28,8,4,65,2)\n",
    "set1=set(tuple1)\n",
    "print(set1)"
   ]
  },
  {
   "cell_type": "code",
   "execution_count": 9,
   "id": "4ffa9c11",
   "metadata": {},
   "outputs": [
    {
     "name": "stdout",
     "output_type": "stream",
     "text": [
      "[8, 28, 28, 8, 4, 65, 2]\n"
     ]
    }
   ],
   "source": [
    "tuple1=(8,28,28,8,4,65,2)\n",
    "list1=list(tuple1)\n",
    "print(list1)"
   ]
  },
  {
   "cell_type": "code",
   "execution_count": null,
   "id": "85af658f",
   "metadata": {},
   "outputs": [],
   "source": [
    "s1={23,78,45.14,86,'hello',35}"
   ]
  }
 ],
 "metadata": {
  "kernelspec": {
   "display_name": "Python 3 (ipykernel)",
   "language": "python",
   "name": "python3"
  },
  "language_info": {
   "codemirror_mode": {
    "name": "ipython",
    "version": 3
   },
   "file_extension": ".py",
   "mimetype": "text/x-python",
   "name": "python",
   "nbconvert_exporter": "python",
   "pygments_lexer": "ipython3",
   "version": "3.10.9"
  }
 },
 "nbformat": 4,
 "nbformat_minor": 5
}
