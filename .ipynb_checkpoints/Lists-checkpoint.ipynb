{
 "cells": [
  {
   "cell_type": "code",
   "execution_count": 18,
   "id": "844cd4da",
   "metadata": {},
   "outputs": [],
   "source": [
    "fruits=['apple','orange','mango','pineapple','grape',[1,2,3,'abc',3.87],[78,'suresh']]"
   ]
  },
  {
   "cell_type": "code",
   "execution_count": 19,
   "id": "bf9a3951",
   "metadata": {},
   "outputs": [
    {
     "data": {
      "text/plain": [
       "'e'"
      ]
     },
     "execution_count": 19,
     "metadata": {},
     "output_type": "execute_result"
    }
   ],
   "source": [
    "fruits[-1][-1][3]"
   ]
  },
  {
   "cell_type": "code",
   "execution_count": 4,
   "id": "bf8a4b38",
   "metadata": {},
   "outputs": [
    {
     "data": {
      "text/plain": [
       "list"
      ]
     },
     "execution_count": 4,
     "metadata": {},
     "output_type": "execute_result"
    }
   ],
   "source": [
    "type(fruits)"
   ]
  },
  {
   "cell_type": "code",
   "execution_count": 5,
   "id": "dc3c5aff",
   "metadata": {},
   "outputs": [
    {
     "data": {
      "text/plain": [
       "'mango'"
      ]
     },
     "execution_count": 5,
     "metadata": {},
     "output_type": "execute_result"
    }
   ],
   "source": [
    "fruits[2]"
   ]
  },
  {
   "cell_type": "code",
   "execution_count": 20,
   "id": "5042b7eb",
   "metadata": {},
   "outputs": [
    {
     "data": {
      "text/plain": [
       "[78, 'suresh']"
      ]
     },
     "execution_count": 20,
     "metadata": {},
     "output_type": "execute_result"
    }
   ],
   "source": [
    "fruits[-1]"
   ]
  },
  {
   "cell_type": "code",
   "execution_count": 9,
   "id": "03c547b9",
   "metadata": {},
   "outputs": [
    {
     "data": {
      "text/plain": [
       "'n'"
      ]
     },
     "execution_count": 9,
     "metadata": {},
     "output_type": "execute_result"
    }
   ],
   "source": [
    "fruits[3][2]"
   ]
  },
  {
   "cell_type": "code",
   "execution_count": 10,
   "id": "edf9faab",
   "metadata": {},
   "outputs": [
    {
     "data": {
      "text/plain": [
       "['mango', 'pineapple']"
      ]
     },
     "execution_count": 10,
     "metadata": {},
     "output_type": "execute_result"
    }
   ],
   "source": [
    "fruits[2:4]"
   ]
  },
  {
   "cell_type": "code",
   "execution_count": 12,
   "id": "38f82d21",
   "metadata": {},
   "outputs": [
    {
     "data": {
      "text/plain": [
       "['apple', 'pineapple']"
      ]
     },
     "execution_count": 12,
     "metadata": {},
     "output_type": "execute_result"
    }
   ],
   "source": [
    "fruits[:5:3]"
   ]
  },
  {
   "cell_type": "code",
   "execution_count": 22,
   "id": "2aec0e35",
   "metadata": {},
   "outputs": [
    {
     "data": {
      "text/plain": [
       "'esh'"
      ]
     },
     "execution_count": 22,
     "metadata": {},
     "output_type": "execute_result"
    }
   ],
   "source": [
    "fruits[-1][-1][-3:]"
   ]
  },
  {
   "cell_type": "code",
   "execution_count": 23,
   "id": "591ea84f",
   "metadata": {},
   "outputs": [
    {
     "data": {
      "text/plain": [
       "7"
      ]
     },
     "execution_count": 23,
     "metadata": {},
     "output_type": "execute_result"
    }
   ],
   "source": [
    "len(fruits)"
   ]
  },
  {
   "cell_type": "code",
   "execution_count": 29,
   "id": "0d784964",
   "metadata": {},
   "outputs": [
    {
     "name": "stdout",
     "output_type": "stream",
     "text": [
      "['apple', 'orange'] [78, 'suresh']\n"
     ]
    }
   ],
   "source": [
    "print(fruits[0:2],end=' ')\n",
    "print(fruits[-1])"
   ]
  },
  {
   "cell_type": "code",
   "execution_count": 38,
   "id": "5508fe96",
   "metadata": {},
   "outputs": [],
   "source": [
    "name=['joe','veda','john','lily']\n",
    "name.append('rakshitha')"
   ]
  },
  {
   "cell_type": "code",
   "execution_count": 39,
   "id": "6646e8c2",
   "metadata": {},
   "outputs": [
    {
     "name": "stdout",
     "output_type": "stream",
     "text": [
      "['joe', 'veda', 'john', 'lily', 'rakshitha']\n"
     ]
    }
   ],
   "source": [
    "print(name)"
   ]
  },
  {
   "cell_type": "code",
   "execution_count": 2,
   "id": "765c0758",
   "metadata": {},
   "outputs": [
    {
     "name": "stdout",
     "output_type": "stream",
     "text": [
      "[]\n"
     ]
    }
   ],
   "source": [
    "name=['joe','veda','john','lily']\n",
    "name.clear()\n",
    "print(name)"
   ]
  },
  {
   "cell_type": "code",
   "execution_count": 5,
   "id": "b78641a9",
   "metadata": {},
   "outputs": [
    {
     "name": "stdout",
     "output_type": "stream",
     "text": [
      "['joe', 'veda', 'john', 'lily']\n"
     ]
    }
   ],
   "source": [
    "name=['joe','veda','john','lily']\n",
    "name.copy()\n",
    "print(name)"
   ]
  },
  {
   "cell_type": "code",
   "execution_count": 10,
   "id": "aded91ee",
   "metadata": {},
   "outputs": [
    {
     "data": {
      "text/plain": [
       "2"
      ]
     },
     "execution_count": 10,
     "metadata": {},
     "output_type": "execute_result"
    }
   ],
   "source": [
    "name=['joe','veda','john','lily','joe']\n",
    "name.count('joe')"
   ]
  },
  {
   "cell_type": "code",
   "execution_count": 17,
   "id": "577d80f7",
   "metadata": {},
   "outputs": [
    {
     "name": "stdout",
     "output_type": "stream",
     "text": [
      "['joe', 'veda', 'john', 'lily', 'j', 'o', 'e']\n"
     ]
    }
   ],
   "source": [
    "name=['joe','veda','john','lily']\n",
    "name.extend('joe')\n",
    "print(name)"
   ]
  },
  {
   "cell_type": "code",
   "execution_count": 18,
   "id": "cbad5c1f",
   "metadata": {},
   "outputs": [
    {
     "data": {
      "text/plain": [
       "2"
      ]
     },
     "execution_count": 18,
     "metadata": {},
     "output_type": "execute_result"
    }
   ],
   "source": [
    "name=['joe','veda','john','lily']\n",
    "name.index('john')"
   ]
  },
  {
   "cell_type": "code",
   "execution_count": 20,
   "id": "66d91e4d",
   "metadata": {},
   "outputs": [
    {
     "name": "stdout",
     "output_type": "stream",
     "text": [
      "['joe', 'veda', 'john', 'sam', 'lily']\n"
     ]
    }
   ],
   "source": [
    "name=['joe','veda','john','lily']\n",
    "name.insert(3,'sam')\n",
    "print(name)"
   ]
  },
  {
   "cell_type": "code",
   "execution_count": 22,
   "id": "a86ca463",
   "metadata": {},
   "outputs": [
    {
     "name": "stdout",
     "output_type": "stream",
     "text": [
      "['joe', 'veda', 'lily']\n"
     ]
    }
   ],
   "source": [
    "name=['joe','veda','john','lily']\n",
    "name.pop(2)\n",
    "print(name)"
   ]
  },
  {
   "cell_type": "code",
   "execution_count": 23,
   "id": "ad5d552e",
   "metadata": {},
   "outputs": [
    {
     "name": "stdout",
     "output_type": "stream",
     "text": [
      "['joe', 'veda', 'lily']\n"
     ]
    }
   ],
   "source": [
    "name=['joe','veda','john','lily']\n",
    "name.remove('john')\n",
    "print(name)"
   ]
  },
  {
   "cell_type": "code",
   "execution_count": 24,
   "id": "21575d0b",
   "metadata": {},
   "outputs": [
    {
     "name": "stdout",
     "output_type": "stream",
     "text": [
      "['lily', 'john', 'veda', 'joe']\n"
     ]
    }
   ],
   "source": [
    "name=['joe','veda','john','lily']\n",
    "name.reverse()\n",
    "print(name)"
   ]
  },
  {
   "cell_type": "code",
   "execution_count": 25,
   "id": "8e23e9d6",
   "metadata": {},
   "outputs": [
    {
     "name": "stdout",
     "output_type": "stream",
     "text": [
      "['joe', 'john', 'lily', 'veda']\n"
     ]
    }
   ],
   "source": [
    "name=['joe','veda','john','lily']\n",
    "name.sort()\n",
    "print(name)"
   ]
  }
 ],
 "metadata": {
  "kernelspec": {
   "display_name": "Python 3 (ipykernel)",
   "language": "python",
   "name": "python3"
  },
  "language_info": {
   "codemirror_mode": {
    "name": "ipython",
    "version": 3
   },
   "file_extension": ".py",
   "mimetype": "text/x-python",
   "name": "python",
   "nbconvert_exporter": "python",
   "pygments_lexer": "ipython3",
   "version": "3.10.9"
  }
 },
 "nbformat": 4,
 "nbformat_minor": 5
}
